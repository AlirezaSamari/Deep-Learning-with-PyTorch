{
  "nbformat": 4,
  "nbformat_minor": 0,
  "metadata": {
    "colab": {
      "provenance": [],
      "gpuType": "T4",
      "authorship_tag": "ABX9TyMx3jaNNbYDQEsn15jGa+X0"
    },
    "kernelspec": {
      "name": "python3",
      "display_name": "Python 3"
    },
    "language_info": {
      "name": "python"
    },
    "accelerator": "GPU"
  },
  "cells": [
    {
      "cell_type": "code",
      "execution_count": 1,
      "metadata": {
        "id": "PcMItSFOH9PR"
      },
      "outputs": [],
      "source": [
        "import torch\n",
        "from torch import nn, optim\n",
        "import numpy as np\n",
        "import pandas as pd\n",
        "import matplotlib.pyplot as plt\n",
        "from torch.utils.data import Dataset, DataLoader\n",
        "import torchvision.transforms as transforms\n",
        "import torchvision.datasets as dsets"
      ]
    },
    {
      "cell_type": "code",
      "source": [
        "def show_data(data_sample):\n",
        "  plt.imshow(data_sample[0].numpy().reshape(28,28), cmap='gray')\n",
        "  plt.title(f'y= {data_sample[1]}')"
      ],
      "metadata": {
        "id": "u6GH73LRPNpF"
      },
      "execution_count": 2,
      "outputs": []
    },
    {
      "cell_type": "code",
      "source": [
        "train_set = dsets.MNIST(root='/.data', train=True, download=True, transform=transforms.ToTensor());\n",
        "print(train_set)"
      ],
      "metadata": {
        "colab": {
          "base_uri": "https://localhost:8080/"
        },
        "id": "QBSkxUuQI5Zn",
        "outputId": "af73915a-0927-4207-82ef-4594cfae2723"
      },
      "execution_count": 3,
      "outputs": [
        {
          "output_type": "stream",
          "name": "stdout",
          "text": [
            "Dataset MNIST\n",
            "    Number of datapoints: 60000\n",
            "    Root location: /.data\n",
            "    Split: Train\n",
            "    StandardTransform\n",
            "Transform: ToTensor()\n"
          ]
        }
      ]
    },
    {
      "cell_type": "code",
      "source": [
        "validation_set = dsets.MNIST(root='./data', download=True, transform=transforms.ToTensor())\n",
        "print(validation_set)"
      ],
      "metadata": {
        "colab": {
          "base_uri": "https://localhost:8080/"
        },
        "id": "4yGp3XoMWOL8",
        "outputId": "e12d855d-f516-42d5-ceaa-f0787191d712"
      },
      "execution_count": 4,
      "outputs": [
        {
          "output_type": "stream",
          "name": "stdout",
          "text": [
            "Dataset MNIST\n",
            "    Number of datapoints: 60000\n",
            "    Root location: ./data\n",
            "    Split: Train\n",
            "    StandardTransform\n",
            "Transform: ToTensor()\n"
          ]
        }
      ]
    },
    {
      "cell_type": "code",
      "source": [
        "show_data(train_set[10])"
      ],
      "metadata": {
        "colab": {
          "base_uri": "https://localhost:8080/",
          "height": 452
        },
        "id": "NFmgWVcVZBRs",
        "outputId": "ead9ef70-77e6-4a17-a464-3e65104c1a35"
      },
      "execution_count": 5,
      "outputs": [
        {
          "output_type": "display_data",
          "data": {
            "text/plain": [
              "<Figure size 640x480 with 1 Axes>"
            ],
            "image/png": "[encoded data removed]"
          },
          "metadata": {}
        }
      ]
    },
    {
      "cell_type": "code",
      "source": [
        "class Softmax(nn.Module):\n",
        "  def __init__(self, input_size, output_size):\n",
        "    super(Softmax, self).__init__()\n",
        "    self.linear = nn.Linear(input_size, output_size)\n",
        "\n",
        "  def forward(self,x):\n",
        "    return self.linear(x)"
      ],
      "metadata": {
        "id": "eqpGt8MVZjic"
      },
      "execution_count": 6,
      "outputs": []
    },
    {
      "cell_type": "code",
      "source": [
        "train_set[4][0].shape"
      ],
      "metadata": {
        "colab": {
          "base_uri": "https://localhost:8080/"
        },
        "id": "IEHWPyNuecSj",
        "outputId": "8b5c1056-fa91-4752-b7ad-b80a8588d1d3"
      },
      "execution_count": 7,
      "outputs": [
        {
          "output_type": "execute_result",
          "data": {
            "text/plain": [
              "torch.Size([1, 28, 28])"
            ]
          },
          "metadata": {},
          "execution_count": 7
        }
      ]
    },
    {
      "cell_type": "code",
      "source": [
        "input_size = 28*28\n",
        "output_size = 10\n",
        "model = Softmax(input_size, output_size)"
      ],
      "metadata": {
        "id": "DvaBWXBcn78P"
      },
      "execution_count": 8,
      "outputs": []
    },
    {
      "cell_type": "code",
      "source": [
        "print('weights size: ',list(model.parameters())[0].shape)\n",
        "print('bias size: : ',list(model.parameters())[1].shape)"
      ],
      "metadata": {
        "colab": {
          "base_uri": "https://localhost:8080/"
        },
        "id": "uzwsWqKLqdpe",
        "outputId": "48855544-685b-4ec5-abd7-d44a2e4c90ab"
      },
      "execution_count": 9,
      "outputs": [
        {
          "output_type": "stream",
          "name": "stdout",
          "text": [
            "weights size:  torch.Size([10, 784])\n",
            "bias size: :  torch.Size([10])\n"
          ]
        }
      ]
    },
    {
      "cell_type": "code",
      "source": [
        "train_loader = DataLoader(train_set, batch_size = 100)\n",
        "validation_loader = DataLoader(validation_set, batch_size=5000)"
      ],
      "metadata": {
        "id": "fHoySoYbsmIh"
      },
      "execution_count": 10,
      "outputs": []
    },
    {
      "cell_type": "code",
      "source": [
        "lr = 0.1\n",
        "optimizer = optim.SGD(model.parameters(), lr = lr)\n",
        "criterion = nn.CrossEntropyLoss()"
      ],
      "metadata": {
        "id": "xkwcweleqsW-"
      },
      "execution_count": 11,
      "outputs": []
    },
    {
      "cell_type": "code",
      "source": [
        "loss_list=[]\n",
        "accuracy_list=[]\n",
        "epochs = 12\n",
        "iterations = [i for i in range(epochs)]\n",
        "N_cv = len(validation_set)\n",
        "def training_model(epochs):\n",
        "  for epoch in range(epochs):\n",
        "    for x,y in train_loader:\n",
        "      y_hat = model(x.view(-1,28*28))\n",
        "      loss = criterion(y_hat, y)\n",
        "      optimizer.zero_grad()\n",
        "      loss.backward()\n",
        "      optimizer.step()\n",
        "    correct=0\n",
        "    for x_cv, y_cv in validation_loader:\n",
        "      z = model(x_cv.view(-1, 28*28))\n",
        "      _,y_hat_cv = torch.max(z, 1)\n",
        "      correct += (y_hat_cv == y_cv).sum().item()\n",
        "    accuracy = correct / N_cv\n",
        "    loss_list.append(loss.data)\n",
        "    accuracy_list.append(accuracy)\n",
        "    print(f'Epoch: {epoch} ------ Loss: {loss} ------ Accuracy: {accuracy}')\n"
      ],
      "metadata": {
        "id": "9jAlJntptOHN"
      },
      "execution_count": 12,
      "outputs": []
    },
    {
      "cell_type": "code",
      "source": [
        "training_model(epochs)"
      ],
      "metadata": {
        "colab": {
          "base_uri": "https://localhost:8080/"
        },
        "id": "3XOTY2LzahL3",
        "outputId": "e4455b45-4700-4315-931a-8ee0d07ff326"
      },
      "execution_count": 13,
      "outputs": [
        {
          "output_type": "stream",
          "name": "stdout",
          "text": [
            "Epoch: 0 ------ Loss: 0.4112580418586731 ------ Accuracy: 0.8930333333333333\n",
            "Epoch: 1 ------ Loss: 0.36347633600234985 ------ Accuracy: 0.9039333333333334\n",
            "Epoch: 2 ------ Loss: 0.3441433310508728 ------ Accuracy: 0.90965\n",
            "Epoch: 3 ------ Loss: 0.3327859044075012 ------ Accuracy: 0.9127333333333333\n",
            "Epoch: 4 ------ Loss: 0.3248416781425476 ------ Accuracy: 0.9148333333333334\n",
            "Epoch: 5 ------ Loss: 0.31872016191482544 ------ Accuracy: 0.9164333333333333\n",
            "Epoch: 6 ------ Loss: 0.31371986865997314 ------ Accuracy: 0.9178\n",
            "Epoch: 7 ------ Loss: 0.3094799518585205 ------ Accuracy: 0.9186166666666666\n",
            "Epoch: 8 ------ Loss: 0.3057922422885895 ------ Accuracy: 0.9196\n",
            "Epoch: 9 ------ Loss: 0.3025255501270294 ------ Accuracy: 0.9203666666666667\n",
            "Epoch: 10 ------ Loss: 0.2995914816856384 ------ Accuracy: 0.9209833333333334\n",
            "Epoch: 11 ------ Loss: 0.29692718386650085 ------ Accuracy: 0.9215\n"
          ]
        }
      ]
    },
    {
      "cell_type": "code",
      "source": [
        "fig, axs = plt.subplots(1, 2, figsize=(10, 3))\n",
        "\n",
        "\n",
        "axs[0].plot(iterations, loss_list, label='Loss', color='blue')\n",
        "axs[0].set_xlabel('Epoch')\n",
        "axs[0].set_ylabel('Loss')\n",
        "axs[0].set_title('Loss Over Epochs')\n",
        "axs[0].legend()\n",
        "\n",
        "axs[1].plot(iterations, accuracy_list, label='Accuracy', color='green')\n",
        "axs[1].set_xlabel('Epoch')\n",
        "axs[1].set_ylabel('Accuracy')\n",
        "axs[1].set_title('Accuracy Over Epochs')\n",
        "axs[1].legend()\n",
        "\n",
        "plt.tight_layout()\n",
        "\n",
        "plt.show()"
      ],
      "metadata": {
        "colab": {
          "base_uri": "https://localhost:8080/",
          "height": 307
        },
        "id": "ZrEoli3VWmsp",
        "outputId": "66f69d9b-e8ee-436a-bb51-22577669ad32"
      },
      "execution_count": 14,
      "outputs": [
        {
          "output_type": "display_data",
          "data": {
            "text/plain": [
              "<Figure size 1000x300 with 2 Axes>"
            ],
            "image/png": "[encoded data removed]"
          },
          "metadata": {}
        }
      ]
    },
    {
      "cell_type": "code",
      "source": [
        "SM = nn.Softmax(dim=1)\n",
        "y_prob = SM(model(train_set[10][0].view(-1, 28*28)))\n",
        "y_pred, index = torch.max(y_prob, dim=1)\n",
        "print(f'index={index.item()}, prediction={y_pred.item()}')"
      ],
      "metadata": {
        "colab": {
          "base_uri": "https://localhost:8080/"
        },
        "id": "XHyeBGcsd_LQ",
        "outputId": "5e4b7f21-1755-42ce-f47e-43d3c9d4f202"
      },
      "execution_count": 15,
      "outputs": [
        {
          "output_type": "stream",
          "name": "stdout",
          "text": [
            "index=3, prediction=0.9971656203269958\n"
          ]
        }
      ]
    },
    {
      "cell_type": "code",
      "source": [
        "show_data(train_set[10])"
      ],
      "metadata": {
        "colab": {
          "base_uri": "https://localhost:8080/",
          "height": 452
        },
        "id": "eMT3J9cEfRi5",
        "outputId": "b78f388c-52f4-4892-970e-cdbf77146ee2"
      },
      "execution_count": 16,
      "outputs": [
        {
          "output_type": "display_data",
          "data": {
            "text/plain": [
              "<Figure size 640x480 with 1 Axes>"
            ],
            "image/png": "[encoded data removed]"
          },
          "metadata": {}
        }
      ]
    }
  ]
}