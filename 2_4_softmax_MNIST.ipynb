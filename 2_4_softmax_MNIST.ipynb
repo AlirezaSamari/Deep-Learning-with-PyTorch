{
  "nbformat": 4,
  "nbformat_minor": 0,
  "metadata": {
    "colab": {
      "provenance": [],
      "gpuType": "T4",
      "authorship_tag": "ABX9TyO3BpbPSJ8QCnQsfg0hjInx"
    },
    "kernelspec": {
      "name": "python3",
      "display_name": "Python 3"
    },
    "language_info": {
      "name": "python"
    },
    "accelerator": "GPU"
  },
  "cells": [
    {
      "cell_type": "code",
      "execution_count": 1,
      "metadata": {
        "id": "PcMItSFOH9PR"
      },
      "outputs": [],
      "source": [
        "import torch\n",
        "from torch import nn, optim\n",
        "import numpy as np\n",
        "import pandas as pd\n",
        "import matplotlib.pyplot as plt\n",
        "from torch.utils.data import Dataset, DataLoader\n",
        "import torchvision.transforms as transforms\n",
        "import torchvision.datasets as dsets"
      ]
    },
    {
      "cell_type": "code",
      "source": [
        "def show_data(data_sample):\n",
        "  plt.imshow(data_sample[0].numpy().reshape(28,28), cmap='gray')\n",
        "  plt.title(f'y= {data_sample[1]}')"
      ],
      "metadata": {
        "id": "u6GH73LRPNpF"
      },
      "execution_count": 2,
      "outputs": []
    },
    {
      "cell_type": "code",
      "source": [
        "train_set = dsets.MNIST(root='/.data', train=True, download=True, transform=transforms.ToTensor());\n",
        "print(train_set)"
      ],
      "metadata": {
        "colab": {
          "base_uri": "https://localhost:8080/"
        },
        "id": "QBSkxUuQI5Zn",
        "outputId": "0f192716-efb8-442f-afc6-252c065dcd05"
      },
      "execution_count": 3,
      "outputs": [
        {
          "output_type": "stream",
          "name": "stdout",
          "text": [
            "Downloading http://yann.lecun.com/exdb/mnist/train-images-idx3-ubyte.gz\n",
            "Downloading http://yann.lecun.com/exdb/mnist/train-images-idx3-ubyte.gz to /.data/MNIST/raw/train-images-idx3-ubyte.gz\n"
          ]
        },
        {
          "output_type": "stream",
          "name": "stderr",
          "text": [
            "100%|██████████| 9912422/9912422 [00:00<00:00, 86583055.30it/s]\n"
          ]
        },
        {
          "output_type": "stream",
          "name": "stdout",
          "text": [
            "Extracting /.data/MNIST/raw/train-images-idx3-ubyte.gz to /.data/MNIST/raw\n",
            "\n",
            "Downloading http://yann.lecun.com/exdb/mnist/train-labels-idx1-ubyte.gz\n",
            "Downloading http://yann.lecun.com/exdb/mnist/train-labels-idx1-ubyte.gz to /.data/MNIST/raw/train-labels-idx1-ubyte.gz\n"
          ]
        },
        {
          "output_type": "stream",
          "name": "stderr",
          "text": [
            "100%|██████████| 28881/28881 [00:00<00:00, 34799107.68it/s]"
          ]
        },
        {
          "output_type": "stream",
          "name": "stdout",
          "text": [
            "Extracting /.data/MNIST/raw/train-labels-idx1-ubyte.gz to /.data/MNIST/raw\n",
            "\n",
            "Downloading http://yann.lecun.com/exdb/mnist/t10k-images-idx3-ubyte.gz\n",
            "Downloading http://yann.lecun.com/exdb/mnist/t10k-images-idx3-ubyte.gz to /.data/MNIST/raw/t10k-images-idx3-ubyte.gz\n"
          ]
        },
        {
          "output_type": "stream",
          "name": "stderr",
          "text": [
            "\n",
            "100%|██████████| 1648877/1648877 [00:00<00:00, 45659996.68it/s]\n"
          ]
        },
        {
          "output_type": "stream",
          "name": "stdout",
          "text": [
            "Extracting /.data/MNIST/raw/t10k-images-idx3-ubyte.gz to /.data/MNIST/raw\n",
            "\n",
            "Downloading http://yann.lecun.com/exdb/mnist/t10k-labels-idx1-ubyte.gz\n",
            "Downloading http://yann.lecun.com/exdb/mnist/t10k-labels-idx1-ubyte.gz to /.data/MNIST/raw/t10k-labels-idx1-ubyte.gz\n"
          ]
        },
        {
          "output_type": "stream",
          "name": "stderr",
          "text": [
            "100%|██████████| 4542/4542 [00:00<00:00, 3694827.15it/s]\n"
          ]
        },
        {
          "output_type": "stream",
          "name": "stdout",
          "text": [
            "Extracting /.data/MNIST/raw/t10k-labels-idx1-ubyte.gz to /.data/MNIST/raw\n",
            "\n",
            "Dataset MNIST\n",
            "    Number of datapoints: 60000\n",
            "    Root location: /.data\n",
            "    Split: Train\n",
            "    StandardTransform\n",
            "Transform: ToTensor()\n"
          ]
        }
      ]
    },
    {
      "cell_type": "code",
      "source": [
        "validation_set = dsets.MNIST(root='./data', download=True, transform=transforms.ToTensor())\n",
        "print(validation_set)"
      ],
      "metadata": {
        "colab": {
          "base_uri": "https://localhost:8080/"
        },
        "id": "4yGp3XoMWOL8",
        "outputId": "870cb0bb-6c14-48eb-f096-50814916afcb"
      },
      "execution_count": 4,
      "outputs": [
        {
          "output_type": "stream",
          "name": "stdout",
          "text": [
            "Downloading http://yann.lecun.com/exdb/mnist/train-images-idx3-ubyte.gz\n",
            "Downloading http://yann.lecun.com/exdb/mnist/train-images-idx3-ubyte.gz to ./data/MNIST/raw/train-images-idx3-ubyte.gz\n"
          ]
        },
        {
          "output_type": "stream",
          "name": "stderr",
          "text": [
            "100%|██████████| 9912422/9912422 [00:00<00:00, 106565587.00it/s]\n"
          ]
        },
        {
          "output_type": "stream",
          "name": "stdout",
          "text": [
            "Extracting ./data/MNIST/raw/train-images-idx3-ubyte.gz to ./data/MNIST/raw\n",
            "\n",
            "Downloading http://yann.lecun.com/exdb/mnist/train-labels-idx1-ubyte.gz\n",
            "Downloading http://yann.lecun.com/exdb/mnist/train-labels-idx1-ubyte.gz to ./data/MNIST/raw/train-labels-idx1-ubyte.gz\n"
          ]
        },
        {
          "output_type": "stream",
          "name": "stderr",
          "text": [
            "100%|██████████| 28881/28881 [00:00<00:00, 4462377.29it/s]\n"
          ]
        },
        {
          "output_type": "stream",
          "name": "stdout",
          "text": [
            "Extracting ./data/MNIST/raw/train-labels-idx1-ubyte.gz to ./data/MNIST/raw\n",
            "\n",
            "Downloading http://yann.lecun.com/exdb/mnist/t10k-images-idx3-ubyte.gz\n",
            "Downloading http://yann.lecun.com/exdb/mnist/t10k-images-idx3-ubyte.gz to ./data/MNIST/raw/t10k-images-idx3-ubyte.gz\n"
          ]
        },
        {
          "output_type": "stream",
          "name": "stderr",
          "text": [
            "100%|██████████| 1648877/1648877 [00:00<00:00, 44893226.94it/s]\n"
          ]
        },
        {
          "output_type": "stream",
          "name": "stdout",
          "text": [
            "Extracting ./data/MNIST/raw/t10k-images-idx3-ubyte.gz to ./data/MNIST/raw\n",
            "\n",
            "Downloading http://yann.lecun.com/exdb/mnist/t10k-labels-idx1-ubyte.gz\n",
            "Downloading http://yann.lecun.com/exdb/mnist/t10k-labels-idx1-ubyte.gz to ./data/MNIST/raw/t10k-labels-idx1-ubyte.gz\n"
          ]
        },
        {
          "output_type": "stream",
          "name": "stderr",
          "text": [
            "100%|██████████| 4542/4542 [00:00<00:00, 21238047.68it/s]\n"
          ]
        },
        {
          "output_type": "stream",
          "name": "stdout",
          "text": [
            "Extracting ./data/MNIST/raw/t10k-labels-idx1-ubyte.gz to ./data/MNIST/raw\n",
            "\n",
            "Dataset MNIST\n",
            "    Number of datapoints: 60000\n",
            "    Root location: ./data\n",
            "    Split: Train\n",
            "    StandardTransform\n",
            "Transform: ToTensor()\n"
          ]
        }
      ]
    },
    {
      "cell_type": "code",
      "source": [
        "show_data(train_set[10])"
      ],
      "metadata": {
        "colab": {
          "base_uri": "https://localhost:8080/",
          "height": 452
        },
        "id": "NFmgWVcVZBRs",
        "outputId": "e886d564-bc9d-40bb-dae3-16dba1c04981"
      },
      "execution_count": 5,
      "outputs": [
        {
          "output_type": "display_data",
          "data": {
            "text/plain": [
              "<Figure size 640x480 with 1 Axes>"
            ],
            "image/png": "[encoded data removed]"
          },
          "metadata": {}
        }
      ]
    },
    {
      "cell_type": "code",
      "source": [
        "class Softmax(nn.Module):\n",
        "  def __init__(self, input_size, output_size):\n",
        "    super(Softmax, self).__init__()\n",
        "    self.linear = nn.Linear(input_size, output_size)\n",
        "\n",
        "  def forward(self,x):\n",
        "    return self.linear(x)"
      ],
      "metadata": {
        "id": "eqpGt8MVZjic"
      },
      "execution_count": 6,
      "outputs": []
    },
    {
      "cell_type": "code",
      "source": [
        "train_set[4][0].shape"
      ],
      "metadata": {
        "colab": {
          "base_uri": "https://localhost:8080/"
        },
        "id": "IEHWPyNuecSj",
        "outputId": "43975dcf-3b7f-4972-d117-62df7d321d26"
      },
      "execution_count": 7,
      "outputs": [
        {
          "output_type": "execute_result",
          "data": {
            "text/plain": [
              "torch.Size([1, 28, 28])"
            ]
          },
          "metadata": {},
          "execution_count": 7
        }
      ]
    },
    {
      "cell_type": "code",
      "source": [
        "input_size = 28*28\n",
        "output_size = 10\n",
        "model = Softmax(input_size, output_size)"
      ],
      "metadata": {
        "id": "DvaBWXBcn78P"
      },
      "execution_count": 8,
      "outputs": []
    },
    {
      "cell_type": "code",
      "source": [
        "print('weights size: ',list(model.parameters())[0].shape)\n",
        "print('bias size: : ',list(model.parameters())[1].shape)"
      ],
      "metadata": {
        "colab": {
          "base_uri": "https://localhost:8080/"
        },
        "id": "uzwsWqKLqdpe",
        "outputId": "4c629a9d-a63e-419e-c9c8-0dcab8a34b25"
      },
      "execution_count": 9,
      "outputs": [
        {
          "output_type": "stream",
          "name": "stdout",
          "text": [
            "weights size:  torch.Size([10, 784])\n",
            "bias size: :  torch.Size([10])\n"
          ]
        }
      ]
    },
    {
      "cell_type": "code",
      "source": [
        "train_loader = DataLoader(train_set, batch_size = 100)\n",
        "validation_loader = DataLoader(validation_set, batch_size=5000)"
      ],
      "metadata": {
        "id": "fHoySoYbsmIh"
      },
      "execution_count": 10,
      "outputs": []
    },
    {
      "cell_type": "code",
      "source": [
        "lr = 0.1\n",
        "optimizer = optim.SGD(model.parameters(), lr = lr)\n",
        "criterion = nn.CrossEntropyLoss()"
      ],
      "metadata": {
        "id": "xkwcweleqsW-"
      },
      "execution_count": 11,
      "outputs": []
    },
    {
      "cell_type": "code",
      "source": [
        "loss_list=[]\n",
        "accuracy_list=[]\n",
        "epochs = 12\n",
        "iterations = [i for i in range(epochs)]\n",
        "N_cv = len(validation_set)\n",
        "def training_model(epochs):\n",
        "  for epoch in range(epochs):\n",
        "    for x,y in train_loader:\n",
        "      y_hat = model(x.view(-1,28*28))\n",
        "      loss = criterion(y_hat, y)\n",
        "      optimizer.zero_grad()\n",
        "      loss.backward()\n",
        "      optimizer.step()\n",
        "    correct=0\n",
        "    for x_cv, y_cv in validation_loader:\n",
        "      z = model(x_cv.view(-1, 28*28))\n",
        "      _,y_hat_cv = torch.max(z, 1)\n",
        "      correct += (y_hat_cv == y_cv).sum().item()\n",
        "    accuracy = correct / N_cv\n",
        "    loss_list.append(loss.data)\n",
        "    accuracy_list.append(accuracy)\n",
        "    print(f'Epoch: {epoch} ------ Loss: {loss} ------ Accuracy: {accuracy}')\n"
      ],
      "metadata": {
        "id": "9jAlJntptOHN"
      },
      "execution_count": 12,
      "outputs": []
    },
    {
      "cell_type": "code",
      "source": [
        "training_model(epochs)"
      ],
      "metadata": {
        "colab": {
          "base_uri": "https://localhost:8080/"
        },
        "id": "3XOTY2LzahL3",
        "outputId": "a802ef68-5cba-4466-cede-8e18458d5601"
      },
      "execution_count": 13,
      "outputs": [
        {
          "output_type": "stream",
          "name": "stdout",
          "text": [
            "Epoch: 0 ------ Loss: 0.4106312096118927 ------ Accuracy: 0.893\n",
            "Epoch: 1 ------ Loss: 0.36213409900665283 ------ Accuracy: 0.9033666666666667\n",
            "Epoch: 2 ------ Loss: 0.3424684405326843 ------ Accuracy: 0.9093\n",
            "Epoch: 3 ------ Loss: 0.33093491196632385 ------ Accuracy: 0.9123333333333333\n",
            "Epoch: 4 ------ Loss: 0.32289910316467285 ------ Accuracy: 0.9143166666666667\n",
            "Epoch: 5 ------ Loss: 0.31673359870910645 ------ Accuracy: 0.9163666666666667\n",
            "Epoch: 6 ------ Loss: 0.31171715259552 ------ Accuracy: 0.9173333333333333\n",
            "Epoch: 7 ------ Loss: 0.3074778616428375 ------ Accuracy: 0.9183833333333333\n",
            "Epoch: 8 ------ Loss: 0.30380141735076904 ------ Accuracy: 0.9192833333333333\n",
            "Epoch: 9 ------ Loss: 0.30055293440818787 ------ Accuracy: 0.9200166666666667\n",
            "Epoch: 10 ------ Loss: 0.29764172434806824 ------ Accuracy: 0.9208166666666666\n",
            "Epoch: 11 ------ Loss: 0.2950035035610199 ------ Accuracy: 0.9215\n"
          ]
        }
      ]
    },
    {
      "cell_type": "code",
      "source": [
        "fig, axs = plt.subplots(1, 2, figsize=(10, 3))\n",
        "\n",
        "\n",
        "axs[0].plot(iterations, loss_list, label='Loss', color='blue')\n",
        "axs[0].set_xlabel('Epoch')\n",
        "axs[0].set_ylabel('Loss')\n",
        "axs[0].set_title('Loss Over Epochs')\n",
        "axs[0].legend()\n",
        "\n",
        "axs[1].plot(iterations, accuracy_list, label='Accuracy', color='green')\n",
        "axs[1].set_xlabel('Epoch')\n",
        "axs[1].set_ylabel('Accuracy')\n",
        "axs[1].set_title('Accuracy Over Epochs')\n",
        "axs[1].legend()\n",
        "\n",
        "plt.tight_layout()\n",
        "\n",
        "plt.show()"
      ],
      "metadata": {
        "colab": {
          "base_uri": "https://localhost:8080/",
          "height": 307
        },
        "id": "ZrEoli3VWmsp",
        "outputId": "914c08cf-5fd0-46dd-c926-b4970731e17d"
      },
      "execution_count": 14,
      "outputs": [
        {
          "output_type": "display_data",
          "data": {
            "text/plain": [
              "<Figure size 1000x300 with 2 Axes>"
            ],
            "image/png": "[encoded data removed]"
          },
          "metadata": {}
        }
      ]
    },
    {
      "cell_type": "code",
      "source": [],
      "metadata": {
        "id": "dLTB7aQtXe7U"
      },
      "execution_count": 14,
      "outputs": []
    }
  ]
}