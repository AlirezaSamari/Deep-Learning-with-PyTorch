{
  "nbformat": 4,
  "nbformat_minor": 0,
  "metadata": {
    "colab": {
      "provenance": [],
      "authorship_tag": "ABX9TyOpytcDGkxVqa8fq2T1zm6N"
    },
    "kernelspec": {
      "name": "python3",
      "display_name": "Python 3"
    },
    "language_info": {
      "name": "python"
    }
  },
  "cells": [
    {
      "cell_type": "code",
      "execution_count": 1,
      "metadata": {
        "id": "uJk4SlgnFzOV"
      },
      "outputs": [],
      "source": [
        "import torch\n",
        "from torch import nn, optim\n",
        "from torch.utils.data import Dataset, DataLoader\n",
        "import numpy as np\n",
        "import matplotlib.pyplot as plt"
      ]
    },
    {
      "cell_type": "code",
      "source": [
        "class Data(Dataset):\n",
        "  def __init__(self):\n",
        "    self.x = torch.linspace(0, 4, 41).view(-1, 1)\n",
        "    self.y = torch.zeros(self.x.shape[0])\n",
        "    self.y[0:10] = 0  # Class 0\n",
        "    self.y[10:20] = 1  # Class 1\n",
        "    self.y[20:30] = 2  # Class 2\n",
        "    self.y[30:41] = 3  # Class 3\n",
        "    self.y = self.y.type(torch.LongTensor)\n",
        "    self.len = self.x.shape[0]\n",
        "\n",
        "  def __getitem__(self, index):\n",
        "    return self.x[index], self.y[index]\n",
        "\n",
        "  def __len__(self):\n",
        "    return self.len\n"
      ],
      "metadata": {
        "id": "eH3xtJ3_H4tW"
      },
      "execution_count": 2,
      "outputs": []
    },
    {
      "cell_type": "code",
      "source": [
        "dataset = Data()\n",
        "plt.scatter(dataset.x.detach().numpy(), dataset.y.detach().numpy(), marker='+', c = dataset.y.detach().numpy())\n",
        "plt.xlabel('x')\n",
        "plt.ylabel('y')\n",
        "plt.show()"
      ],
      "metadata": {
        "colab": {
          "base_uri": "https://localhost:8080/",
          "height": 449
        },
        "id": "Y3b9HcDaJXgT",
        "outputId": "c9ee77a1-be5c-4092-81c3-f66495ea5005"
      },
      "execution_count": 3,
      "outputs": [
        {
          "output_type": "display_data",
          "data": {
            "text/plain": [
              "<Figure size 640x480 with 1 Axes>"
            ],
            "image/png": "[encoded data removed]"
          },
          "metadata": {}
        }
      ]
    },
    {
      "cell_type": "code",
      "source": [
        "class Softmax(nn.Module):\n",
        "  def __init__(self, input_size, output_size):\n",
        "    super(Softmax, self).__init__()\n",
        "    self.linear = nn.Linear(input_size, output_size)\n",
        "\n",
        "  def forward(self, x):\n",
        "    return self.linear(x)"
      ],
      "metadata": {
        "id": "7ouykyamJghR"
      },
      "execution_count": 4,
      "outputs": []
    },
    {
      "cell_type": "code",
      "source": [
        "trainloader = DataLoader(dataset, batch_size=5)"
      ],
      "metadata": {
        "id": "yKQ-DRpRJziV"
      },
      "execution_count": 5,
      "outputs": []
    },
    {
      "cell_type": "code",
      "source": [
        "model = Softmax(1, 4)\n",
        "optimizer = optim.SGD(model.parameters(), lr=0.1)\n",
        "criterion = nn.CrossEntropyLoss()"
      ],
      "metadata": {
        "id": "ZKr1-c7FJhgH"
      },
      "execution_count": 6,
      "outputs": []
    },
    {
      "cell_type": "code",
      "source": [
        "LOSS=[]\n",
        "epochs=501\n",
        "iteration=np.array([i for i in range(epochs)])\n",
        "def training(epochs):\n",
        "  for epoch in range(epochs):\n",
        "    Y_hat = model(dataset.x)\n",
        "    loss_epoch = criterion(Y_hat, dataset.y)\n",
        "    LOSS.append(loss_epoch.detach().numpy())\n",
        "    if epoch % 100 ==0 : print(loss_epoch)\n",
        "    for x, y in trainloader:\n",
        "      y_hat = model(x)\n",
        "      loss = criterion(y_hat, y)\n",
        "      optimizer.zero_grad()\n",
        "      loss.backward()\n",
        "      optimizer.step()\n",
        "\n",
        "  plt.plot(iteration, LOSS)\n",
        "  plt.xlabel('iter')\n",
        "  plt.ylabel('loss')\n",
        "  plt.plot"
      ],
      "metadata": {
        "id": "YZb-qh0EO60M"
      },
      "execution_count": 7,
      "outputs": []
    },
    {
      "cell_type": "code",
      "source": [
        "training(epochs)"
      ],
      "metadata": {
        "colab": {
          "base_uri": "https://localhost:8080/",
          "height": 553
        },
        "id": "2UAgrV-zMNlC",
        "outputId": "f8dab194-b462-4ce3-9baa-c352878b858f"
      },
      "execution_count": 8,
      "outputs": [
        {
          "output_type": "stream",
          "name": "stdout",
          "text": [
            "tensor(1.7194, grad_fn=<NllLossBackward0>)\n",
            "tensor(0.6060, grad_fn=<NllLossBackward0>)\n",
            "tensor(0.4767, grad_fn=<NllLossBackward0>)\n",
            "tensor(0.4110, grad_fn=<NllLossBackward0>)\n",
            "tensor(0.3686, grad_fn=<NllLossBackward0>)\n",
            "tensor(0.3381, grad_fn=<NllLossBackward0>)\n"
          ]
        },
        {
          "output_type": "display_data",
          "data": {
            "text/plain": [
              "<Figure size 640x480 with 1 Axes>"
            ],
            "image/png": "[encoded data removed]"
          },
          "metadata": {}
        }
      ]
    },
    {
      "cell_type": "code",
      "source": [
        "_, y_hat = model(dataset.x).max(1)\n",
        "print('accuracy= ', ((y_hat==dataset.y).sum()/len(dataset)).item())"
      ],
      "metadata": {
        "colab": {
          "base_uri": "https://localhost:8080/"
        },
        "id": "o4wfDs1CMver",
        "outputId": "19d0995c-9541-43a8-b260-8c7255cc326f"
      },
      "execution_count": 9,
      "outputs": [
        {
          "output_type": "stream",
          "name": "stdout",
          "text": [
            "accuracy=  0.9268292784690857\n"
          ]
        }
      ]
    }
  ]
}