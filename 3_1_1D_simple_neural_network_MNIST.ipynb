{
  "nbformat": 4,
  "nbformat_minor": 0,
  "metadata": {
    "colab": {
      "provenance": [],
      "authorship_tag": "ABX9TyOehIn3XELPY1vtLEhcvpRn"
    },
    "kernelspec": {
      "name": "python3",
      "display_name": "Python 3"
    },
    "language_info": {
      "name": "python"
    }
  },
  "cells": [
    {
      "cell_type": "code",
      "execution_count": 1,
      "metadata": {
        "id": "Bz-9CRhzdp3g"
      },
      "outputs": [],
      "source": [
        "import torch\n",
        "import numpy as np\n",
        "from torch import nn, optim\n",
        "import torchvision.datasets as dsets\n",
        "import torchvision.transforms as transforms\n",
        "import matplotlib.pyplot as plt"
      ]
    },
    {
      "cell_type": "code",
      "source": [
        "def show_data(sample):\n",
        "  plt.imshow(sample.numpy().reshape(28, 28), cmap='gray')\n",
        "  plt.show()"
      ],
      "metadata": {
        "id": "u_7-x2rOZjqH"
      },
      "execution_count": 2,
      "outputs": []
    },
    {
      "cell_type": "code",
      "source": [
        "train_set = dsets.MNIST(root='./data', train=True, download=True, transform=transforms.ToTensor());\n",
        "cv_set = dsets.MNIST(root='./data', train=False, download=True, transform=transforms.ToTensor());\n",
        "train_batch_size = 10\n",
        "cv_batch_size = 5000\n",
        "train_loader = torch.utils.data.DataLoader(train_set, batch_size=train_batch_size, shuffle=True)\n",
        "cv_loader = torch.utils.data.DataLoader(cv_set, batch_size=cv_batch_size, shuffle=False)"
      ],
      "metadata": {
        "id": "p3VZ8dgA9UYw"
      },
      "execution_count": 3,
      "outputs": []
    },
    {
      "cell_type": "code",
      "source": [
        "class Net(nn.Module):\n",
        "  def __init__(self,input_size, l1, l2, output_size):\n",
        "    super(Net, self).__init__()\n",
        "    self.linear1 = nn.Linear(input_size, l1)\n",
        "    self.linear2 = nn.Linear(l1, l2)\n",
        "    self.linear3 = nn.Linear(l2, output_size)\n",
        "\n",
        "  def forward(self, x):\n",
        "    x = self.linear1(x)\n",
        "    x = self.linear2(x)\n",
        "    x = self.linear3(x)\n",
        "    x = torch.softmax(x, dim = 1)\n",
        "    return x"
      ],
      "metadata": {
        "id": "a9Z73eBnAWYI"
      },
      "execution_count": 4,
      "outputs": []
    },
    {
      "cell_type": "code",
      "source": [
        "model = Net(28*28, 128, 64, 10)\n"
      ],
      "metadata": {
        "id": "mQQekeVSfW2o"
      },
      "execution_count": 5,
      "outputs": []
    },
    {
      "cell_type": "code",
      "source": [
        "train_loss_list = []\n",
        "cv_loss_list = []\n",
        "epochs = 12\n",
        "def trainer(epochs, lr):\n",
        "  criterion = nn.CrossEntropyLoss()\n",
        "  optimizer = optim.SGD(model.parameters(), lr = lr)\n",
        "  for epoch in range(epochs):\n",
        "\n",
        "    total_train_loss = 0\n",
        "    for x, y in train_loader:\n",
        "      optimizer.zero_grad()\n",
        "      z = model(x.view(-1, 28*28))\n",
        "      train_loss = criterion(z, y)\n",
        "      total_train_loss += train_loss\n",
        "      train_loss.backward()\n",
        "      optimizer.step()\n",
        "    avg_train_loss = total_train_loss.item()/(len(train_set)/train_batch_size)\n",
        "    train_loss_list.append(avg_train_loss)\n",
        "\n",
        "    correct = 0\n",
        "    total_cv_loss = 0\n",
        "    for x_cv, y_cv in cv_loader:\n",
        "      z_cv = model(x_cv.view(-1, 28*28))\n",
        "      _, idx = torch.max(z_cv, dim=1)\n",
        "      correct += (idx==y_cv).sum().item()\n",
        "      cv_loss = criterion(z_cv, y_cv)\n",
        "      total_cv_loss += cv_loss\n",
        "    avg_cv_loss = total_cv_loss.item()/(len(cv_set)/cv_batch_size)\n",
        "    cv_loss_list.append(avg_cv_loss)\n",
        "    acc=correct/len(cv_set)\n",
        "    print('Epoch= ',epoch,'------ average train loss=', avg_train_loss, '------ average cv loss=', avg_cv_loss,'------ acc= ',100*acc,' %')"
      ],
      "metadata": {
        "id": "nofK0CyMUWeJ"
      },
      "execution_count": 6,
      "outputs": []
    },
    {
      "cell_type": "code",
      "source": [
        "trainer(epochs=epochs, lr=0.01)"
      ],
      "metadata": {
        "colab": {
          "base_uri": "https://localhost:8080/"
        },
        "id": "-zxhPC0zcyzO",
        "outputId": "f989166d-0977-45f4-c1b2-12a66268596c"
      },
      "execution_count": 7,
      "outputs": [
        {
          "output_type": "stream",
          "name": "stdout",
          "text": [
            "Epoch=  0 ------ average train loss= 1.98534765625 ------ average cv loss= 1.6761343479156494 ------ acc=  81.91000000000001  %\n",
            "Epoch=  1 ------ average train loss= 1.65361669921875 ------ average cv loss= 1.6291911602020264 ------ acc=  84.2  %\n",
            "Epoch=  2 ------ average train loss= 1.5875631510416666 ------ average cv loss= 1.568055272102356 ------ acc=  90.34  %\n",
            "Epoch=  3 ------ average train loss= 1.5658694661458334 ------ average cv loss= 1.5569047927856445 ------ acc=  91.19  %\n",
            "Epoch=  4 ------ average train loss= 1.5576857096354166 ------ average cv loss= 1.552255630493164 ------ acc=  91.4  %\n",
            "Epoch=  5 ------ average train loss= 1.5525867513020832 ------ average cv loss= 1.5475811958312988 ------ acc=  91.89  %\n",
            "Epoch=  6 ------ average train loss= 1.5488751627604167 ------ average cv loss= 1.5451010465621948 ------ acc=  92.04  %\n",
            "Epoch=  7 ------ average train loss= 1.5457571614583334 ------ average cv loss= 1.5427542924880981 ------ acc=  92.2  %\n",
            "Epoch=  8 ------ average train loss= 1.5437218424479167 ------ average cv loss= 1.5414884090423584 ------ acc=  92.47999999999999  %\n",
            "Epoch=  9 ------ average train loss= 1.5415485026041666 ------ average cv loss= 1.5405261516571045 ------ acc=  92.34  %\n",
            "Epoch=  10 ------ average train loss= 1.53992578125 ------ average cv loss= 1.5396728515625 ------ acc=  92.49000000000001  %\n",
            "Epoch=  11 ------ average train loss= 1.5382530924479167 ------ average cv loss= 1.5398802757263184 ------ acc=  92.4  %\n"
          ]
        }
      ]
    },
    {
      "cell_type": "code",
      "source": [
        "iteration = np.array([i for i in range(epochs)])\n",
        "plt.plot(iteration, train_loss_list, color='blue', label='Train')\n",
        "plt.plot(iteration, cv_loss_list, color='red', label='Validation')\n",
        "plt.title('Loss Graph')\n",
        "plt.xlabel('Epoch')\n",
        "plt.ylabel('Average Loss')\n",
        "plt.show()"
      ],
      "metadata": {
        "colab": {
          "base_uri": "https://localhost:8080/",
          "height": 472
        },
        "id": "lMEufgSjwtIO",
        "outputId": "c4dc1a77-8088-4ee6-d94a-b426afd552c9"
      },
      "execution_count": 10,
      "outputs": [
        {
          "output_type": "display_data",
          "data": {
            "text/plain": [
              "<Figure size 640x480 with 1 Axes>"
            ],
            "image/png": "[encoded data removed]"
          },
          "metadata": {}
        }
      ]
    }
  ]
}